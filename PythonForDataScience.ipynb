{
 "cells": [
  {
   "cell_type": "markdown",
   "id": "ca3577fa-61fd-4ac9-a28a-304a9a6bdf2c",
   "metadata": {
    "tags": []
   },
   "source": [
    "<h1>Intro to Data Science</h1>\n",
    "<h2>Measures of Central Tendency</h2>\n",
    "<h3>Mean:</h3> The avarage value in a set of values.\n",
    "<h4>Median:</h4> The middle value when all the values are arranged in sorted order.\n",
    "<h3>Mode:</h3> The most frequently occuring value."
   ]
  },
  {
   "cell_type": "code",
   "execution_count": 4,
   "id": "a7750a08-eff6-46d8-b547-4e527de8766f",
   "metadata": {
    "tags": []
   },
   "outputs": [
    {
     "name": "stdout",
     "output_type": "stream",
     "text": [
      "mean of the values: 79.17\n",
      "median of the values: 86.0\n",
      "mode of the values: 88\n"
     ]
    }
   ],
   "source": [
    "from statistics import mean, mode, median \n",
    "values=[47,95,88,73,88,84]\n",
    "print(f'mean of the values: {mean(values):<.2f}')\n",
    "print(f'median of the values: {median(values)}')\n",
    "print(f'mode of the values: {mode(values)}')"
   ]
  },
  {
   "cell_type": "code",
   "execution_count": null,
   "id": "5e8f0ba0-d5a2-4b38-a588-6fc22269d864",
   "metadata": {},
   "outputs": [],
   "source": []
  }
 ],
 "metadata": {
  "kernelspec": {
   "display_name": "Python 3 (ipykernel)",
   "language": "python",
   "name": "python3"
  },
  "language_info": {
   "codemirror_mode": {
    "name": "ipython",
    "version": 3
   },
   "file_extension": ".py",
   "mimetype": "text/x-python",
   "name": "python",
   "nbconvert_exporter": "python",
   "pygments_lexer": "ipython3",
   "version": "3.11.5"
  }
 },
 "nbformat": 4,
 "nbformat_minor": 5
}
