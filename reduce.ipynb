{
 "cells": [
  {
   "cell_type": "code",
   "execution_count": 8,
   "id": "fa20b2b5-d557-499b-85ac-21c8ab90d7a0",
   "metadata": {},
   "outputs": [
    {
     "name": "stdout",
     "output_type": "stream",
     "text": [
      "sum of a:  15\n"
     ]
    }
   ],
   "source": [
    "from functools import reduce\n",
    "a=[1,2,3,4,5]\n",
    "b=reduce(lambda x,y: x+y, a)\n",
    "print (\"sum of a: \",b)"
   ]
  },
  {
   "cell_type": "code",
   "execution_count": 9,
   "id": "2e3f204e-caa1-4077-903c-68e8997c6473",
   "metadata": {},
   "outputs": [
    {
     "name": "stdout",
     "output_type": "stream",
     "text": [
      "product of a:  120\n"
     ]
    }
   ],
   "source": [
    "c=reduce(lambda x,y: x*y, a)\n",
    "print (\"product of a: \",c)"
   ]
  },
  {
   "cell_type": "code",
   "execution_count": 10,
   "id": "847ba07c-445a-4bfa-97ff-4d075f71cd68",
   "metadata": {},
   "outputs": [
    {
     "name": "stdout",
     "output_type": "stream",
     "text": [
      "max of a:  5\n"
     ]
    }
   ],
   "source": [
    "d=reduce(lambda x,y: x if x>y else y, a)\n",
    "print (\"max of a: \",d)"
   ]
  },
  {
   "cell_type": "code",
   "execution_count": 11,
   "id": "0b746863-db20-4e69-84f7-b19703ee076b",
   "metadata": {},
   "outputs": [
    {
     "name": "stdout",
     "output_type": "stream",
     "text": [
      "Hello World from Python\n"
     ]
    }
   ],
   "source": [
    "words=[\"Hello\",\"World\",\"from\",\"Python\"]\n",
    "e=reduce(lambda x,y: x+\" \"+y, words)\n",
    "print(e)"
   ]
  },
  {
   "cell_type": "code",
   "execution_count": 13,
   "id": "5278312c-fc3f-45f2-877b-52fc33c1bb19",
   "metadata": {},
   "outputs": [
    {
     "name": "stdout",
     "output_type": "stream",
     "text": [
      "sum of a:  25\n"
     ]
    }
   ],
   "source": [
    "from functools import reduce\n",
    "a=[1,2,3,4,5]\n",
    "f=reduce(lambda x,y: x+y, a,10)\n",
    "print (\"sum of a: \",f)"
   ]
  },
  {
   "cell_type": "code",
   "execution_count": 15,
   "id": "ee30f751-b801-42b2-82ca-ff5c6a6e5371",
   "metadata": {},
   "outputs": [
    {
     "name": "stdout",
     "output_type": "stream",
     "text": [
      "concatenated a:  [1, 2, 3, 4, 5]\n"
     ]
    }
   ],
   "source": [
    "a=[[1,2],[3],[4,5]]\n",
    "g=reduce(lambda x,y: x+y, a)\n",
    "print (\"concatenated a: \",g)"
   ]
  },
  {
   "cell_type": "code",
   "execution_count": null,
   "id": "e55f79b3-fe2c-4d90-81ea-27f77945254f",
   "metadata": {},
   "outputs": [],
   "source": []
  }
 ],
 "metadata": {
  "kernelspec": {
   "display_name": "Python 3 (ipykernel)",
   "language": "python",
   "name": "python3"
  },
  "language_info": {
   "codemirror_mode": {
    "name": "ipython",
    "version": 3
   },
   "file_extension": ".py",
   "mimetype": "text/x-python",
   "name": "python",
   "nbconvert_exporter": "python",
   "pygments_lexer": "ipython3",
   "version": "3.11.9"
  }
 },
 "nbformat": 4,
 "nbformat_minor": 5
}
